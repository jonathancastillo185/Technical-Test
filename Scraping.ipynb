{
 "cells": [
  {
   "cell_type": "code",
   "execution_count": 1,
   "metadata": {},
   "outputs": [],
   "source": [
    "import time\n",
    "import pandas as pd\n",
    "from selenium import webdriver\n",
    "from selenium.webdriver.common.by import By\n",
    "from selenium.webdriver.chrome.service import Service\n",
    "from selenium.webdriver.support.ui import WebDriverWait\n",
    "from selenium.common.exceptions import WebDriverException\n",
    "from selenium.webdriver.support import expected_conditions as EC\n",
    "\n",
    "from concurrent.futures import ThreadPoolExecutor\n",
    "import multiprocessing\n",
    "\n",
    "from Functions.function import movies_for_category, categories, print_process, movies\n",
    "from bs4 import BeautifulSoup\n",
    "import requests\n",
    "\n"
   ]
  },
  {
   "cell_type": "code",
   "execution_count": 2,
   "metadata": {},
   "outputs": [
    {
     "name": "stdout",
     "output_type": "stream",
     "text": [
      "|---------------------Categorias capturadas correctamente.---------------------|\n"
     ]
    }
   ],
   "source": [
    "categorias = categories()"
   ]
  },
  {
   "cell_type": "code",
   "execution_count": 3,
   "metadata": {},
   "outputs": [
    {
     "name": "stdout",
     "output_type": "stream",
     "text": [
      "|---Todas las peliculas de la categoria 'history' capturadas correctamente.---|\n",
      "|--Todas las peliculas de la categoria 'biography' capturadas correctamente.--|\n",
      "|---Todas las peliculas de la categoria 'fantasy' capturadas correctamente.---|\n",
      "|----Todas las peliculas de la categoria 'family' capturadas correctamente.----|\n",
      "|--Todas las peliculas de la categoria 'adventure' capturadas correctamente.--|\n",
      "|--Todas las peliculas de la categoria 'animation' capturadas correctamente.--|\n",
      "|----Todas las peliculas de la categoria 'crime' capturadas correctamente.----|\n",
      "|----Todas las peliculas de la categoria 'action' capturadas correctamente.----|\n",
      "|----Todas las peliculas de la categoria 'horror' capturadas correctamente.----|\n",
      "|---Todas las peliculas de la categoria 'musical' capturadas correctamente.---|\n",
      "|-----Todas las peliculas de la categoria 'news' capturadas correctamente.-----|\n",
      "|--Todas las peliculas de la categoria 'reality_tv' capturadas correctamente.--|\n",
      "|----Todas las peliculas de la categoria 'music' capturadas correctamente.----|\n",
      "|----Todas las peliculas de la categoria 'comedy' capturadas correctamente.----|\n",
      "|---Todas las peliculas de la categoria 'mystery' capturadas correctamente.---|\n",
      "|----Todas las peliculas de la categoria 'sci_fi' capturadas correctamente.----|\n",
      "|---Todas las peliculas de la categoria 'romance' capturadas correctamente.---|\n",
      "|-----Todas las peliculas de la categoria 'war' capturadas correctamente.-----|\n",
      "|---Todas las peliculas de la categoria 'western' capturadas correctamente.---|\n",
      "|-Todas las peliculas de la categoria 'documentary' capturadas correctamente.-|\n",
      "|----Todas las peliculas de la categoria 'sport' capturadas correctamente.----|\n",
      "|---Todas las peliculas de la categoria 'thriller' capturadas correctamente.---|\n",
      "|Todas las peliculas de la categoria 'european_production' capturadas correctamente.|\n",
      "|----Todas las peliculas de la categoria 'drama' capturadas correctamente.----|\n",
      "|----Todas las peliculas de la categoria 'short' capturadas correctamente.----|\n"
     ]
    }
   ],
   "source": [
    "\n",
    "# Obtener la cantidad de núcleos disponibles en el sistema\n",
    "num_nucleos = multiprocessing.cpu_count()\n",
    "\n",
    "# Crear un diccionario para almacenar los resultados\n",
    "resultados_dict = {}\n",
    "\n",
    "with ThreadPoolExecutor(max_workers=num_nucleos) as executor:\n",
    "    # Ejecutar la función para cada categoría en paralelo\n",
    "    resultados = list(executor.map(movies_for_category, categorias))\n",
    "    \n",
    "    # Asignar los resultados al diccionario\n",
    "    for categoria, resultado in zip(categorias, resultados):\n",
    "        resultados_dict[categoria] = resultado\n",
    "\n",
    "peliculas_total = []\n",
    "\n",
    "for x,i in resultados_dict.items():\n",
    "    for e in i:\n",
    "        peliculas_total.append(e)\n",
    "        \n",
    "peliculas_total = set(peliculas_total)\n",
    "\n"
   ]
  },
  {
   "cell_type": "code",
   "execution_count": null,
   "metadata": {},
   "outputs": [],
   "source": [
    "peliculas_total_test = peluc"
   ]
  },
  {
   "cell_type": "code",
   "execution_count": 19,
   "metadata": {},
   "outputs": [
    {
     "data": {
      "text/plain": [
       "4585"
      ]
     },
     "execution_count": 19,
     "metadata": {},
     "output_type": "execute_result"
    }
   ],
   "source": [
    "# Crear un diccionario para almacenar los resultados\n",
    "json_pelioculas = {}\n",
    "\n",
    "with ThreadPoolExecutor(max_workers=num_nucleos) as executor:\n",
    "    # Ejecutar la función para cada categoría en paralelo\n",
    "    resultados = list(executor.map(movies, peliculas_total))\n",
    "    \n",
    "    # Asignar los resultados al diccionario\n",
    "    for pelicula, resultado in zip(peliculas_total, resultados):\n",
    "        json_pelioculas[pelicula] = resultado\n"
   ]
  }
 ],
 "metadata": {
  "kernelspec": {
   "display_name": "Python 3",
   "language": "python",
   "name": "python3"
  },
  "language_info": {
   "codemirror_mode": {
    "name": "ipython",
    "version": 3
   },
   "file_extension": ".py",
   "mimetype": "text/x-python",
   "name": "python",
   "nbconvert_exporter": "python",
   "pygments_lexer": "ipython3",
   "version": "3.11.9"
  }
 },
 "nbformat": 4,
 "nbformat_minor": 2
}
